{
 "cells": [
  {
   "cell_type": "code",
   "execution_count": 2,
   "id": "fifty-ranking",
   "metadata": {},
   "outputs": [],
   "source": [
    "import geopandas as gpd \n",
    "import osmnx \n",
    "import contextily as cx \n",
    "import matplotlib.pyplot as plt \n",
    "import pandas as pd "
   ]
  },
  {
   "cell_type": "code",
   "execution_count": 3,
   "id": "extraordinary-calculation",
   "metadata": {},
   "outputs": [],
   "source": [
    "#For printing all columns\n",
    "pd.set_option('display.max_columns', None)\n"
   ]
  },
  {
   "cell_type": "code",
   "execution_count": 8,
   "id": "anonymous-germany",
   "metadata": {},
   "outputs": [
    {
     "name": "stderr",
     "output_type": "stream",
     "text": [
      "/opt/conda/lib/python3.8/site-packages/ipykernel/ipkernel.py:283: DeprecationWarning: `should_run_async` will not call `transform_cell` automatically in the future. Please pass the result to `transformed_cell` argument and any exception that happen during thetransform in `preprocessing_exc_tuple` in IPython 7.17 and above.\n",
      "  and should_run_async(code)\n"
     ]
    }
   ],
   "source": [
    "#Central Copenhagen (point from Open Street Map)\n",
    "pois_cph = osmnx.geometries_from_point((55.6867243, 12.5700724), tags = {\"amenity\": True, \"leisure\": True, \"tourism\": True}, dist=8250)\n",
    "pois_cph.drop(pois_cph.columns.difference(['unique_id','osmid', 'element_type', 'source',\n",
    "                                          'nodes', 'geometry', 'name', 'amenity', 'leisure','tourism',\n",
    "                                          'opening_hours', 'cuisine', 'website', 'email', 'contact:phone', \n",
    "                                          'contact:twitter','contact:website', 'facebook', 'contact:instagram',\n",
    "                                          'dinner', 'reservation', 'diet:vegan', 'vegan']), 1, inplace=True)\n",
    "with open('data/data_cph.json', 'w') as f:\n",
    "    f.write(pois_cph.to_json())\n",
    "\n",
    "#Aarhus Kommune\n",
    "pois_aarhus = osmnx.geometries_from_place(\"Aarhus Kommune, Denmark\", tags={\"amenity\": True, \"leisure\": True, \"tourism\": True})\n",
    "pois_aarhus.drop(pois_aarhus.columns.difference(['unique_id','osmid', 'element_type', 'source',\n",
    "                                          'nodes', 'geometry', 'name', 'amenity', 'leisure','tourism',\n",
    "                                          'opening_hours', 'cuisine', 'website', 'email', 'contact:phone', \n",
    "                                          'contact:twitter','contact:website', 'facebook', 'contact:instagram',\n",
    "                                          'dinner', 'reservation', 'diet:vegan', 'vegan']), 1, inplace=True)\n",
    "with open('data/data_aarhus.json', 'w') as f:\n",
    "    f.write(pois_aarhus.to_json())"
   ]
  },
  {
   "cell_type": "code",
   "execution_count": null,
   "id": "polar-barcelona",
   "metadata": {},
   "outputs": [],
   "source": []
  }
 ],
 "metadata": {
  "kernelspec": {
   "display_name": "Python 3",
   "language": "python",
   "name": "python3"
  },
  "language_info": {
   "codemirror_mode": {
    "name": "ipython",
    "version": 3
   },
   "file_extension": ".py",
   "mimetype": "text/x-python",
   "name": "python",
   "nbconvert_exporter": "python",
   "pygments_lexer": "ipython3",
   "version": "3.8.8"
  }
 },
 "nbformat": 4,
 "nbformat_minor": 5
}
