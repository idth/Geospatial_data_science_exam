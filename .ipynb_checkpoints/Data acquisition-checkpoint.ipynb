{
 "cells": [
  {
   "cell_type": "markdown",
   "id": "damaged-adoption",
   "metadata": {},
   "source": [
    "<div class=\"frontmatter text-center\">\n",
    "<h1>Geospatial Data Science</h1>\n",
    "<h2>Data acquisition</h2>\n",
    "<h4>IT University of Copenhagen, Spring 2022</h4>\n",
    "<h4>Group: Nina Sand Horup & Ida Thrane</h4>\n",
    "</div>\n",
    "\n",
    "\n",
    "In this notebook we do the initial data retrieval from OSMnx and save the data for future preprocessing. "
   ]
  },
  {
   "cell_type": "code",
   "execution_count": 1,
   "id": "declared-biotechnology",
   "metadata": {},
   "outputs": [
    {
     "data": {
      "text/plain": [
       "'1.0.1'"
      ]
     },
     "execution_count": 1,
     "metadata": {},
     "output_type": "execute_result"
    }
   ],
   "source": [
    "# import libraries needed\n",
    "import geopandas as gpd\n",
    "import osmnx as ox\n",
    "import pandas as pd\n",
    "import geopandas as gpd\n",
    "\n",
    "ox.__version__"
   ]
  },
  {
   "cell_type": "markdown",
   "id": "copyrighted-check",
   "metadata": {},
   "source": [
    "#### Input parameters"
   ]
  },
  {
   "cell_type": "code",
   "execution_count": 2,
   "id": "fitted-mirror",
   "metadata": {},
   "outputs": [],
   "source": [
    "# Input parameters for the big graph (all of Copenhagen)\n",
    "copenhagen_centre = (55.6867243, 12.5700724)\n",
    "max_distance_to_city_edge = (8250)"
   ]
  },
  {
   "cell_type": "code",
   "execution_count": 6,
   "id": "composed-platinum",
   "metadata": {},
   "outputs": [],
   "source": [
    "# Tags for water/parks \n",
    "\n",
    "# Define relevant tags\n",
    "\n",
    "water_tags = {\"waterway\": [\"riverbank\", \"canal\", \"dock\"],\n",
    "        \"water\": [\"river\", \"canal\", \"reservoir\"],\n",
    "        \"natural\": [\"bay\", \"water\", \"wetland\"],\n",
    "        \"place\": [\"sea\", \"ocean\"]}\n",
    "\n",
    "park_tags = {\"leisure\": \"park\", \n",
    "             \"landuse\": [\"cemetery\", \"meadow\", \"recreation_ground\", \"grass\"],\n",
    "             \"natural\": \"wood\"}\n",
    "\n",
    "destination_tags = {\"amenity\": True, \"leisure\": True, \"tourism\": True}"
   ]
  },
  {
   "cell_type": "markdown",
   "id": "wrong-commonwealth",
   "metadata": {},
   "source": [
    "# Import graph"
   ]
  },
  {
   "cell_type": "code",
   "execution_count": 4,
   "id": "resident-sessions",
   "metadata": {},
   "outputs": [],
   "source": [
    "G_copenhagen = ox.graph_from_point(\n",
    "    copenhagen_centre,\n",
    "    dist=max_distance_to_city_edge,\n",
    "    dist_type=\"network\",\n",
    "    network_type=\"all\",\n",
    "    simplify = True\n",
    ")"
   ]
  },
  {
   "cell_type": "code",
   "execution_count": 5,
   "id": "better-reward",
   "metadata": {},
   "outputs": [],
   "source": [
    "# Save \n",
    "ox.io.save_graphml(G_copenhagen, \"./data/graphs/G_copenhagen\")"
   ]
  },
  {
   "cell_type": "markdown",
   "id": "initial-workshop",
   "metadata": {},
   "source": [
    "# Import geometries (points)"
   ]
  },
  {
   "cell_type": "markdown",
   "id": "played-horror",
   "metadata": {},
   "source": [
    "Import from Copenhagen"
   ]
  },
  {
   "cell_type": "code",
   "execution_count": 8,
   "id": "recovered-probe",
   "metadata": {},
   "outputs": [],
   "source": [
    "#Central Copenhagen (geometries from Open Street Map)\n",
    "pois_cph = ox.geometries_from_point(copenhagen_centre, tags = destination_tags, dist=max_distance_to_city_edge)\n",
    "pois_cph.drop(pois_cph.columns.difference(['unique_id','osmid', 'element_type', 'source',\n",
    "                                          'nodes', 'geometry', 'name', 'amenity', 'leisure','tourism',\n",
    "                                          'opening_hours', 'cuisine', 'website', 'email', 'contact:phone', \n",
    "                                          'contact:twitter','contact:website', 'facebook', 'contact:instagram',\n",
    "                                          'dinner', 'reservation', 'diet:vegan', 'vegan']), 1, inplace=True)\n",
    "\n"
   ]
  },
  {
   "cell_type": "code",
   "execution_count": 10,
   "id": "insured-evolution",
   "metadata": {},
   "outputs": [],
   "source": [
    "with open('data/geographies/destinations_copenhagen.json', 'w') as f:\n",
    "    f.write(pois_cph.to_json())"
   ]
  },
  {
   "cell_type": "markdown",
   "id": "acknowledged-powell",
   "metadata": {},
   "source": [
    "Import from Aarhus"
   ]
  },
  {
   "cell_type": "code",
   "execution_count": 12,
   "id": "overall-perception",
   "metadata": {},
   "outputs": [],
   "source": [
    "#Aarhus Kommune\n",
    "pois_aarhus = ox.geometries_from_place(\"Aarhus Kommune, Denmark\", tags=destination_tags)\n",
    "pois_aarhus.drop(pois_aarhus.columns.difference(['unique_id','osmid', 'element_type', 'source',\n",
    "                                          'nodes', 'geometry', 'name', 'amenity', 'leisure','tourism',\n",
    "                                          'opening_hours', 'cuisine', 'website', 'email', 'contact:phone', \n",
    "                                          'contact:twitter','contact:website', 'facebook', 'contact:instagram',\n",
    "                                          'dinner', 'reservation', 'diet:vegan', 'vegan']), 1, inplace=True)\n"
   ]
  },
  {
   "cell_type": "code",
   "execution_count": 14,
   "id": "bottom-acrylic",
   "metadata": {},
   "outputs": [],
   "source": [
    "with open('data/geographies/destinations_aarhus.json', 'w') as f:\n",
    "    f.write(pois_aarhus.to_json())"
   ]
  },
  {
   "cell_type": "markdown",
   "id": "dangerous-township",
   "metadata": {},
   "source": [
    "# Import parks and water areas"
   ]
  },
  {
   "cell_type": "code",
   "execution_count": 15,
   "id": "fundamental-anchor",
   "metadata": {},
   "outputs": [],
   "source": [
    "# Import water areas\n",
    "water_geometries = ox.geometries_from_point(copenhagen_centre, tags = water_tags, dist=max_distance_to_city_edge)\n",
    "\n"
   ]
  },
  {
   "cell_type": "code",
   "execution_count": 16,
   "id": "rocky-charity",
   "metadata": {},
   "outputs": [],
   "source": [
    "with open('data/geographies/water_copenhagen.json', 'w') as f:\n",
    "    f.write(water_geometries.to_json())"
   ]
  },
  {
   "cell_type": "code",
   "execution_count": 17,
   "id": "rapid-slave",
   "metadata": {},
   "outputs": [],
   "source": [
    "# Import water areas\n",
    "parks_geometries = ox.geometries_from_point(copenhagen_centre, tags = park_tags, dist=max_distance_to_city_edge)\n"
   ]
  },
  {
   "cell_type": "code",
   "execution_count": 18,
   "id": "individual-night",
   "metadata": {},
   "outputs": [],
   "source": [
    "with open('data/geographies/parks_copenhagen.json', 'w') as f:\n",
    "    f.write(parks_geometries.to_json())"
   ]
  },
  {
   "cell_type": "code",
   "execution_count": null,
   "id": "controlled-nature",
   "metadata": {},
   "outputs": [],
   "source": []
  }
 ],
 "metadata": {
  "kernelspec": {
   "display_name": "Python 3",
   "language": "python",
   "name": "python3"
  },
  "language_info": {
   "codemirror_mode": {
    "name": "ipython",
    "version": 3
   },
   "file_extension": ".py",
   "mimetype": "text/x-python",
   "name": "python",
   "nbconvert_exporter": "python",
   "pygments_lexer": "ipython3",
   "version": "3.8.8"
  }
 },
 "nbformat": 4,
 "nbformat_minor": 5
}
