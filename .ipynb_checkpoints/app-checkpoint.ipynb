{
 "cells": [
  {
   "cell_type": "markdown",
   "id": "strange-brush",
   "metadata": {},
   "source": [
    "<div class=\"frontmatter text-center\">\n",
    "<h1>Geospatial Data Science</h1>\n",
    "<h2>App</h2>\n",
    "<h4>IT University of Copenhagen, Spring 2022</h4>\n",
    "<h4>Group: Nina Sand Horup & Ida Thrane</h4>\n",
    "</div>"
   ]
  },
  {
   "cell_type": "markdown",
   "id": "perceived-infection",
   "metadata": {},
   "source": [
    "# Input parameters from user"
   ]
  },
  {
   "cell_type": "code",
   "execution_count": null,
   "id": "alpha-exemption",
   "metadata": {},
   "outputs": [],
   "source": [
    "# Input parameters for the user\n",
    "\n",
    "current_position = #(some_coordinates)\n",
    "time_of_day = #Choose between two time slots\n",
    "preference_activity = #Choose between active participation/nature experience"
   ]
  },
  {
   "cell_type": "markdown",
   "id": "beautiful-credit",
   "metadata": {},
   "source": [
    "# Import libraries"
   ]
  },
  {
   "cell_type": "code",
   "execution_count": 1,
   "id": "difficult-literature",
   "metadata": {},
   "outputs": [
    {
     "data": {
      "text/plain": [
       "'1.0.1'"
      ]
     },
     "execution_count": 1,
     "metadata": {},
     "output_type": "execute_result"
    }
   ],
   "source": [
    "# import libraries needed\n",
    "import geopandas as gpd\n",
    "import osmnx as ox\n",
    "import networkx as nx\n",
    "import pandas as pd\n",
    "import geopandas as gpd\n",
    "import numpy as np\n",
    "from shapely.geometry import Point, Polygon, LineString\n",
    "\n",
    "# libraries for plotting\n",
    "import matplotlib.pyplot as plt\n",
    "import matplotlib\n",
    "import matplotlib.cm as cm\n",
    "\n",
    "\n",
    "\n",
    "%matplotlib inline\n",
    "ox.__version__"
   ]
  },
  {
   "cell_type": "code",
   "execution_count": 2,
   "id": "indonesian-awareness",
   "metadata": {},
   "outputs": [],
   "source": [
    "# Plotting parameters\n",
    "\n",
    "current_position_color = 'red'\n",
    "restaurant_color = 'magenta' # limegreen\n",
    "bar_color = 'darkorange'\n",
    "attraction_color = 'blue'"
   ]
  },
  {
   "cell_type": "markdown",
   "id": "cardiac-order",
   "metadata": {},
   "source": [
    "# Functions"
   ]
  },
  {
   "cell_type": "code",
   "execution_count": 3,
   "id": "established-leone",
   "metadata": {},
   "outputs": [],
   "source": [
    "def graph_cols_to_float(G, cols):\n",
    "    for i, j, key, data in G.edges(keys = True, data = True):\n",
    "        for col in cols:\n",
    "            data[col] = float(data[col])"
   ]
  },
  {
   "cell_type": "markdown",
   "id": "empirical-momentum",
   "metadata": {},
   "source": [
    "# Import preprocessed data from 'database'"
   ]
  },
  {
   "cell_type": "markdown",
   "id": "dirty-springer",
   "metadata": {},
   "source": [
    "Import graph"
   ]
  },
  {
   "cell_type": "code",
   "execution_count": null,
   "id": "eight-moderator",
   "metadata": {},
   "outputs": [],
   "source": [
    "## Import graph data from folder\n",
    "\n",
    "G = ox.io.load_graphml(\"./data/graphs/G_copenhagen_preprocessed\")\n"
   ]
  },
  {
   "cell_type": "code",
   "execution_count": null,
   "id": "successful-liabilities",
   "metadata": {},
   "outputs": [],
   "source": [
    "cols_to_float = ['use_cost', 'speed_cost', 'park_gain', 'water_gain', 'total_cost']\n",
    "graph_cols_to_float(G, cols_to_float)"
   ]
  },
  {
   "cell_type": "code",
   "execution_count": null,
   "id": "impressive-practice",
   "metadata": {},
   "outputs": [],
   "source": [
    "# Making colour scale\n",
    "norm = matplotlib.colors.Normalize(vmin=min(list_total_costs), vmax=3000)\n",
    "cmap = cm.bwr\n",
    "m = cm.ScalarMappable(norm=norm, cmap=cmap)\n",
    "\n",
    "edge_cost_colors = [m.to_rgba(data[\"total_cost\"]) for u, v, key, data in G.edges(keys=True, data=True)]\n",
    "\n",
    "# Plotting the figure\n",
    "    \n",
    "fig, ax = ox.plot_graph(G, node_size=0, edge_color=edge_cost_colors, edge_linewidth=1.5, edge_alpha=0.7,show=False, close=False)\n",
    "\n",
    "fig.colorbar(m, ax = ax, orientation='vertical')\n",
    "plt.show()"
   ]
  },
  {
   "cell_type": "markdown",
   "id": "sacred-colon",
   "metadata": {},
   "source": [
    "Import destinations"
   ]
  },
  {
   "cell_type": "code",
   "execution_count": null,
   "id": "collective-cambodia",
   "metadata": {},
   "outputs": [],
   "source": [
    "destinations_cph= gpd.read_file(\"data/geometries/destinations_copenhagen_preprocessed.json\")\n",
    "destinations_cph=destinations_cph.set_index(\"id\")"
   ]
  },
  {
   "cell_type": "markdown",
   "id": "strange-cargo",
   "metadata": {},
   "source": [
    "Import parks and water"
   ]
  },
  {
   "cell_type": "code",
   "execution_count": null,
   "id": "accepting-therapist",
   "metadata": {},
   "outputs": [],
   "source": [
    "water_cph= gpd.read_file(\"data/geometries/water_copenhagen_subset.json\")\n",
    "water_cph=water_cph.set_index(\"id\")"
   ]
  },
  {
   "cell_type": "code",
   "execution_count": null,
   "id": "favorite-albany",
   "metadata": {},
   "outputs": [],
   "source": [
    "parks_cph= gpd.read_file(\"data/geometries/parks_copenhagen_subset.json\")\n",
    "parks_cph=parks_cph.set_index(\"id\")"
   ]
  }
 ],
 "metadata": {
  "kernelspec": {
   "display_name": "Python 3",
   "language": "python",
   "name": "python3"
  },
  "language_info": {
   "codemirror_mode": {
    "name": "ipython",
    "version": 3
   },
   "file_extension": ".py",
   "mimetype": "text/x-python",
   "name": "python",
   "nbconvert_exporter": "python",
   "pygments_lexer": "ipython3",
   "version": "3.8.8"
  }
 },
 "nbformat": 4,
 "nbformat_minor": 5
}
