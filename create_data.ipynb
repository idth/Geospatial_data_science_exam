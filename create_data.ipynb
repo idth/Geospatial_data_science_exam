{
 "cells": [
  {
   "cell_type": "code",
   "execution_count": 1,
   "id": "indoor-small",
   "metadata": {},
   "outputs": [],
   "source": [
    "import geopandas as gpd \n",
    "import osmnx \n",
    "import contextily as cx \n",
    "import matplotlib.pyplot as plt \n",
    "import pandas as pd "
   ]
  },
  {
   "cell_type": "code",
   "execution_count": 4,
   "id": "fresh-survey",
   "metadata": {},
   "outputs": [],
   "source": [
    "#For printing all columns\n",
    "pd.set_option('display.max_columns', None)\n"
   ]
  },
  {
   "cell_type": "code",
   "execution_count": 10,
   "id": "isolated-exploration",
   "metadata": {},
   "outputs": [],
   "source": [
    "#Central Copenhagen (point from Open Street Map)\n",
    "pois_cph = osmnx.geometries_from_point((55.6867243, 12.5700724), tags = {\"amenity\": True, \"leisure\": True, \"tourism\": True}, dist=8250)\n",
    "pois_cph.to_csv(\"data/data_Cph.csv\")\n",
    "\n",
    "#Aarhus Kommune\n",
    "pois_aarhus = osmnx.geometries_from_place(\"Aarhus Kommune, Denmark\", tags={\"amenity\": True, \"leisure\": True, \"tourism\": True})\n",
    "pois_aarhus.to_csv(\"data/data_Aarhus.csv\")\n",
    "\n"
   ]
  }
 ],
 "metadata": {
  "kernelspec": {
   "display_name": "Python 3",
   "language": "python",
   "name": "python3"
  },
  "language_info": {
   "codemirror_mode": {
    "name": "ipython",
    "version": 3
   },
   "file_extension": ".py",
   "mimetype": "text/x-python",
   "name": "python",
   "nbconvert_exporter": "python",
   "pygments_lexer": "ipython3",
   "version": "3.8.8"
  }
 },
 "nbformat": 4,
 "nbformat_minor": 5
}
