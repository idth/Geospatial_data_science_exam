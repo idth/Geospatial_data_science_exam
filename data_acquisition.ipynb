{
 "cells": [
  {
   "cell_type": "markdown",
   "id": "absent-photography",
   "metadata": {},
   "source": [
    "<div class=\"frontmatter text-center\">\n",
    "<h1>Geospatial Data Science</h1>\n",
    "<h2>Data acquisition</h2>\n",
    "<h4>IT University of Copenhagen, Spring 2022</h4>\n",
    "<h4>Group: Nina Sand Horup & Ida Thrane</h4>\n",
    "</div>\n",
    "\n",
    "\n",
    "In this notebook we do the initial data retrieval from OSMnx and save the data for future preprocessing. "
   ]
  },
  {
   "cell_type": "code",
   "execution_count": 1,
   "id": "continuous-spelling",
   "metadata": {},
   "outputs": [
    {
     "data": {
      "text/plain": [
       "'1.0.1'"
      ]
     },
     "execution_count": 1,
     "metadata": {},
     "output_type": "execute_result"
    }
   ],
   "source": [
    "# import libraries needed\n",
    "import geopandas as gpd\n",
    "import osmnx as ox\n",
    "import pandas as pd\n",
    "import geopandas as gpd\n",
    "\n",
    "ox.__version__"
   ]
  },
  {
   "cell_type": "markdown",
   "id": "inappropriate-reconstruction",
   "metadata": {},
   "source": [
    "#### Input parameters"
   ]
  },
  {
   "cell_type": "code",
   "execution_count": 2,
   "id": "sensitive-increase",
   "metadata": {},
   "outputs": [],
   "source": [
    "# Input parameters for the big graph (all of Copenhagen)\n",
    "copenhagen_centre = (55.6867243, 12.5700724)\n",
    "max_distance_to_city_edge = (8250)"
   ]
  },
  {
   "cell_type": "code",
   "execution_count": 6,
   "id": "least-spirituality",
   "metadata": {},
   "outputs": [],
   "source": [
    "# Tags for water/parks \n",
    "\n",
    "# Define relevant tags\n",
    "\n",
    "water_tags = {\"waterway\": [\"riverbank\", \"canal\", \"dock\"],\n",
    "        \"water\": [\"river\", \"canal\", \"reservoir\"],\n",
    "        \"natural\": [\"bay\", \"water\", \"wetland\"],\n",
    "        \"place\": [\"sea\", \"ocean\"]}\n",
    "\n",
    "park_tags = {\"leisure\": \"park\", \n",
    "             \"landuse\": [\"cemetery\", \"meadow\", \"recreation_ground\", \"grass\"],\n",
    "             \"natural\": \"wood\"}\n",
    "\n",
    "destination_tags = {\"amenity\": True, \"leisure\": True, \"tourism\": True}"
   ]
  },
  {
   "cell_type": "markdown",
   "id": "subtle-relative",
   "metadata": {},
   "source": [
    "# Import graph"
   ]
  },
  {
   "cell_type": "code",
   "execution_count": 4,
   "id": "communist-greeting",
   "metadata": {},
   "outputs": [],
   "source": [
    "G_copenhagen = ox.graph_from_point(\n",
    "    copenhagen_centre,\n",
    "    dist=max_distance_to_city_edge,\n",
    "    dist_type=\"network\",\n",
    "    network_type=\"all\",\n",
    "    simplify = True\n",
    ")"
   ]
  },
  {
   "cell_type": "code",
   "execution_count": 5,
   "id": "gentle-throw",
   "metadata": {},
   "outputs": [],
   "source": [
    "# Save \n",
    "ox.io.save_graphml(G_copenhagen, \"./data/graphs/G_copenhagen\")"
   ]
  },
  {
   "cell_type": "markdown",
   "id": "alive-africa",
   "metadata": {},
   "source": [
    "# Import geometries (points)"
   ]
  },
  {
   "cell_type": "markdown",
   "id": "pressed-honolulu",
   "metadata": {},
   "source": [
    "Import from Copenhagen"
   ]
  },
  {
   "cell_type": "code",
   "execution_count": 8,
   "id": "swiss-reggae",
   "metadata": {},
   "outputs": [],
   "source": [
    "#Central Copenhagen (geometries from Open Street Map)\n",
    "pois_cph = ox.geometries_from_point(copenhagen_centre, tags = destination_tags, dist=max_distance_to_city_edge)\n",
    "pois_cph.drop(pois_cph.columns.difference(['unique_id','osmid', 'element_type', 'source',\n",
    "                                          'nodes', 'geometry', 'name', 'amenity', 'leisure','tourism',\n",
    "                                          'opening_hours', 'cuisine', 'website', 'email', 'contact:phone', \n",
    "                                          'contact:twitter','contact:website', 'facebook', 'contact:instagram',\n",
    "                                          'dinner', 'reservation', 'diet:vegan', 'vegan']), 1, inplace=True)\n",
    "\n"
   ]
  },
  {
   "cell_type": "code",
   "execution_count": 10,
   "id": "metallic-concept",
   "metadata": {},
   "outputs": [],
   "source": [
    "with open('data/geometries/destinations_copenhagen.json', 'w') as f:\n",
    "    f.write(pois_cph.to_json())"
   ]
  },
  {
   "cell_type": "markdown",
   "id": "leading-husband",
   "metadata": {},
   "source": [
    "# Import parks and water areas"
   ]
  },
  {
   "cell_type": "code",
   "execution_count": 15,
   "id": "together-borough",
   "metadata": {},
   "outputs": [],
   "source": [
    "# Import water areas\n",
    "water_geometries = ox.geometries_from_point(copenhagen_centre, tags = water_tags, dist=max_distance_to_city_edge)\n",
    "\n"
   ]
  },
  {
   "cell_type": "code",
   "execution_count": 16,
   "id": "entertaining-sender",
   "metadata": {},
   "outputs": [],
   "source": [
    "with open('data/geometries/water_copenhagen.json', 'w') as f:\n",
    "    f.write(water_geometries.to_json())"
   ]
  },
  {
   "cell_type": "code",
   "execution_count": 17,
   "id": "stupid-walter",
   "metadata": {},
   "outputs": [],
   "source": [
    "# Import water areas\n",
    "parks_geometries = ox.geometries_from_point(copenhagen_centre, tags = park_tags, dist=max_distance_to_city_edge)\n"
   ]
  },
  {
   "cell_type": "code",
   "execution_count": 18,
   "id": "quality-minority",
   "metadata": {},
   "outputs": [],
   "source": [
    "with open('data/geometries/parks_copenhagen.json', 'w') as f:\n",
    "    f.write(parks_geometries.to_json())"
   ]
  },
  {
   "cell_type": "code",
   "execution_count": null,
   "id": "velvet-piece",
   "metadata": {},
   "outputs": [],
   "source": []
  }
 ],
 "metadata": {
  "kernelspec": {
   "display_name": "Python 3",
   "language": "python",
   "name": "python3"
  },
  "language_info": {
   "codemirror_mode": {
    "name": "ipython",
    "version": 3
   },
   "file_extension": ".py",
   "mimetype": "text/x-python",
   "name": "python",
   "nbconvert_exporter": "python",
   "pygments_lexer": "ipython3",
   "version": "3.8.8"
  }
 },
 "nbformat": 4,
 "nbformat_minor": 5
}
